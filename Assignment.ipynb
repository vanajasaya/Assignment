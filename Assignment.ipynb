{
  "metadata": {
    "kernelspec": {
      "name": "python",
      "display_name": "Python (Pyodide)",
      "language": "python"
    },
    "language_info": {
      "codemirror_mode": {
        "name": "python",
        "version": 3
      },
      "file_extension": ".py",
      "mimetype": "text/x-python",
      "name": "python",
      "nbconvert_exporter": "python",
      "pygments_lexer": "ipython3",
      "version": "3.8"
    }
  },
  "nbformat_minor": 4,
  "nbformat": 4,
  "cells": [
    {
      "cell_type": "markdown",
      "source": "# The Final Assignment",
      "metadata": {}
    },
    {
      "cell_type": "markdown",
      "source": "**Welcome to my Jupyterlite Notebook! In this notebook, we will explore various data science concepts and code examples.**",
      "metadata": {}
    },
    {
      "cell_type": "markdown",
      "source": "**Data Science Languages**\n- Python\n- R\n- Julia",
      "metadata": {}
    },
    {
      "cell_type": "markdown",
      "source": "**Data Science Libraries**\r\n- NumPy\r\n- Pandas\r\n- Matplotlib",
      "metadata": {}
    },
    {
      "cell_type": "markdown",
      "source": " **Data Science Tools Table**\r\n\r\n1. **Python:**\r\n   - *Description:* A versatile programming language widely used in data science, known for its rich ecosystem of libraries and frameworks.\r\n\r\n2. **R:**\r\n   - *Description:* A statistical programming language popular for data analysis and visualization, especially in academia and research.\r\n\r\n3. **Jupyter Notebooks:**\r\n   - *Description:* Interactive documents enabling the integration of code and text, widely used for data exploration, analysis, and collaboration in a reproducible manner.\r\n   |\r\n",
      "metadata": {}
    },
    {
      "cell_type": "markdown",
      "source": "**Arithmetic Expression Examples**                                                                                      \n\nIn this section, we'll explore some arithmetic expressions.",
      "metadata": {}
    },
    {
      "cell_type": "code",
      "source": "# Multiply and Add Numbers                                                                                         \na = 2                                                                                                            \nb = 5                                                                                                              \nresult_multiply = a * b                                                                                            \nresult_add = a + b                                                                                                 \nresult_multiply, result_add",
      "metadata": {
        "trusted": true
      },
      "outputs": [
        {
          "execution_count": 1,
          "output_type": "execute_result",
          "data": {
            "text/plain": "(10, 7)"
          },
          "metadata": {}
        }
      ],
      "execution_count": 1
    },
    {
      "cell_type": "code",
      "source": "# Convert Minutes to Hours                                                                                             \r\nminutes =2400\r\nhours = minutes / 60\r\nhours",
      "metadata": {
        "trusted": true
      },
      "outputs": [
        {
          "execution_count": 2,
          "output_type": "execute_result",
          "data": {
            "text/plain": "40.0"
          },
          "metadata": {}
        }
      ],
      "execution_count": 2
    },
    {
      "cell_type": "markdown",
      "source": " **Objectives**\n- Working on Jupyter notebook\n- Working with github\n- Practical implementation",
      "metadata": {}
    },
    {
      "cell_type": "markdown",
      "source": "**Author's Name**                                                                                                       \nAuthor: Teja Khajjayam",
      "metadata": {}
    },
    {
      "cell_type": "code",
      "source": "",
      "metadata": {
        "trusted": true
      },
      "outputs": [],
      "execution_count": null
    }
  ]
}